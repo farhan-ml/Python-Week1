{
 "cells": [
  {
   "cell_type": "markdown",
   "id": "7b6e35a1-108d-44b9-a467-cc1dbbd2cbe9",
   "metadata": {},
   "source": [
    "📅 Day 1 – Python Basics\n",
    "\n",
    "Topics: Data types, variables, input/output\n"
   ]
  },
  {
   "cell_type": "markdown",
   "id": "6691eb1b-256d-4a40-b03b-ae473b40dd89",
   "metadata": {},
   "source": [
    "Task 1: Take user’s name and age, then print a greeting."
   ]
  },
  {
   "cell_type": "code",
   "execution_count": 5,
   "id": "f154faee-cc62-40b2-b216-a90cafd683cf",
   "metadata": {},
   "outputs": [
    {
     "name": "stdin",
     "output_type": "stream",
     "text": [
      "Enter the user name:-- Farhan\n",
      "Enter the user age:-- 21\n"
     ]
    },
    {
     "name": "stdout",
     "output_type": "stream",
     "text": [
      "Hello Farhan.21 year old guy.\n"
     ]
    }
   ],
   "source": [
    "name=input(\"Enter the user name:--\")\n",
    "age=int(input(\"Enter the user age:--\"))\n",
    "print(f\"Hello {name}.{age} year old guy.\")"
   ]
  },
  {
   "cell_type": "markdown",
   "id": "d2f6ad7b-a9c8-410f-9496-4a616581026f",
   "metadata": {},
   "source": [
    "Task 2: Take two numbers from the user and print their sum."
   ]
  },
  {
   "cell_type": "code",
   "execution_count": 11,
   "id": "4faa60b1-f9d7-4ff7-b784-23e98e0f2a03",
   "metadata": {},
   "outputs": [
    {
     "name": "stdin",
     "output_type": "stream",
     "text": [
      "Enter teh number 1 :-- 23\n",
      "Enter teh number 2 :-- 67\n"
     ]
    },
    {
     "name": "stdout",
     "output_type": "stream",
     "text": [
      "Sum is : 90\n"
     ]
    }
   ],
   "source": [
    "num1=int(input(\"Enter teh number 1 :--\"))\n",
    "num2=int(input(\"Enter teh number 2 :--\"))\n",
    "sum=num1+num2\n",
    "print(\"Sum is :\",sum)"
   ]
  },
  {
   "cell_type": "markdown",
   "id": "b40f4a83-5c2f-40ed-9b76-bbab8ec025a0",
   "metadata": {},
   "source": [
    "Task 3: Store your own name, age, and city in variables and print them in one line."
   ]
  },
  {
   "cell_type": "code",
   "execution_count": 8,
   "id": "f213d6e1-52b8-47d4-9496-dae8ea95f4dc",
   "metadata": {},
   "outputs": [
    {
     "name": "stdout",
     "output_type": "stream",
     "text": [
      "Hello Farhan.21 year age.city is DGK\n"
     ]
    }
   ],
   "source": [
    "name=\"Farhan\"\n",
    "age=21\n",
    "city=\"DGK\"\n",
    "print(f\"Hello {name}.{age} year age.city is {city}\")"
   ]
  },
  {
   "cell_type": "markdown",
   "id": "68b3bbe2-bb05-4d9a-b0c5-cf453ac505e2",
   "metadata": {},
   "source": [
    "Assignment:\n",
    "\n",
    "1.\tTask:\n",
    "\n",
    "Write a Python program to:\n",
    "\n",
    "o\tDeclare two variables: name (string) and age (integer).\n",
    "\n",
    "o\tPrint a sentence like: \"My name is [name] and I am [age] years old.\"\n",
    "\n",
    "o\tUse the + operator to combine the string and variables.\n",
    "\n",
    "o\tUse f-strings to make the print statement cleaner.\n",
    "\n",
    "2.\tTask:\n",
    "\n",
    "Perform the following calculations and print the results:\n",
    "\n",
    "o\tCalculate the sum, difference, product, and quotient of two numbers (choose any numbers).\n",
    "\n",
    "o\tDisplay the results in a readable format using print statements.\n"
   ]
  },
  {
   "cell_type": "code",
   "execution_count": 19,
   "id": "ae80fb55-d185-4e13-bb19-c444bbd15cb5",
   "metadata": {},
   "outputs": [
    {
     "name": "stdout",
     "output_type": "stream",
     "text": [
      "my name is Farhan abd iam 21 year old.\n",
      "combine the String and variable :Farhan21 \n"
     ]
    }
   ],
   "source": [
    "# Task 1\n",
    "name=\"Farhan\" # Declare two variables: name (string) and age (integer).\n",
    "age=21\n",
    "print(f\"my name is {name} abd iam {age} year old.\")# Print a sentence like: \"My name is [name] and I am [age] years old.\"\n",
    "\n",
    "combine=name+str(age) # Use the + operator to combine the string and variables.\n",
    "print(f\"combine the String and variable :{combine} \")\n"
   ]
  },
  {
   "cell_type": "code",
   "execution_count": 22,
   "id": "89d3ffee-c6ad-4e60-a904-2b83c72cdffb",
   "metadata": {},
   "outputs": [
    {
     "name": "stdout",
     "output_type": "stream",
     "text": [
      "sum is: 90. \n",
      " difference is : -44.\n",
      " product is : 1541.\n",
      " quotient is : 0.34328358208955223\n"
     ]
    }
   ],
   "source": [
    "# Task 2\n",
    " # Calculate the sum, difference, product, and quotient of two numbers (choose any numbers).\n",
    "num1=23\n",
    "num2= 67\n",
    "sum=num1+num2  # sum\n",
    "difference=num1-num2  # difference\n",
    "product= num1*num2   # product\n",
    "quotient=num1/num2  # quotient\n",
    "\n",
    "# Display the results in a readable format using print statements.\n",
    "\n",
    "print(f\"sum is: {sum}. \\n difference is : {difference}.\\n product is : {product}.\\n quotient is : {quotient}\")"
   ]
  },
  {
   "cell_type": "markdown",
   "id": "3c599ca8-b98a-48f8-8d80-0c5f1b14eeb9",
   "metadata": {},
   "source": [
    "📅 Day 2 – Control Flow\n",
    "\n",
    "Topics: If/Else, Loops, Logical Operators\n"
   ]
  },
  {
   "cell_type": "markdown",
   "id": "682e1451-e8cc-411c-9940-dbea3cbc9b3c",
   "metadata": {},
   "source": [
    "1.\tCheck if a number is positive, negative, or zero"
   ]
  },
  {
   "cell_type": "code",
   "execution_count": 13,
   "id": "d32e433d-25e8-4ad9-a56c-2fd836b60abb",
   "metadata": {},
   "outputs": [
    {
     "name": "stdin",
     "output_type": "stream",
     "text": [
      "Enter the number:-- 2\n"
     ]
    },
    {
     "name": "stdout",
     "output_type": "stream",
     "text": [
      "Positive\n"
     ]
    }
   ],
   "source": [
    "num=eval(input(\"Enter the number:--\"))\n",
    "if num>0:\n",
    " print(\"Positive\")\n",
    "if num==0:\n",
    " print(\"Zero\")\n",
    "if num<0:\n",
    " print(\"Negative\")"
   ]
  },
  {
   "cell_type": "markdown",
   "id": "10dc2955-b5be-417b-8980-3a340397f5a0",
   "metadata": {},
   "source": [
    "2.\tPrint all even numbers from 1 to 20 using for loop"
   ]
  },
  {
   "cell_type": "code",
   "execution_count": 1,
   "id": "87e430b5-863e-4c89-b6fb-da73ea4bab7a",
   "metadata": {},
   "outputs": [
    {
     "name": "stdout",
     "output_type": "stream",
     "text": [
      "2\n",
      "4\n",
      "6\n",
      "8\n",
      "10\n",
      "12\n",
      "14\n",
      "16\n",
      "18\n",
      "20\n"
     ]
    }
   ],
   "source": [
    "for i in range(1,21):\n",
    "    if i%2==0:\n",
    "        print(i)"
   ]
  },
  {
   "cell_type": "markdown",
   "id": "acd21f16-a0cf-4e7d-8c39-7dec833523d2",
   "metadata": {},
   "source": [
    "3.\tTake 3 numbers as input and print the largest using if/else"
   ]
  },
  {
   "cell_type": "code",
   "execution_count": 18,
   "id": "a41669be-7aa8-4169-b271-8d35af5deeed",
   "metadata": {},
   "outputs": [
    {
     "name": "stdin",
     "output_type": "stream",
     "text": [
      "Enter the number 1:-- 34\n",
      "Enter the number 2:-- 5\n",
      "Enter the number 3:-- 22\n"
     ]
    },
    {
     "name": "stdout",
     "output_type": "stream",
     "text": [
      "a\n"
     ]
    }
   ],
   "source": [
    "a=eval(input(\"Enter the number 1:--\"))\n",
    "b=eval(input(\"Enter the number 2:--\"))\n",
    "c=eval(input(\"Enter the number 3:--\"))\n",
    "\n",
    "if a>b and a>c:\n",
    "    print(\"a\")\n",
    "elif b>a and b>c:\n",
    "    print(\"b\")\n",
    "else:\n",
    "    print(\"c\")\n",
    "\n"
   ]
  },
  {
   "cell_type": "markdown",
   "id": "7345f905-ab42-4278-a755-fb3190903d05",
   "metadata": {},
   "source": [
    "4.\tUse while loop to print factorial of a number"
   ]
  },
  {
   "cell_type": "code",
   "execution_count": 24,
   "id": "aab18865-8667-4afd-be7a-78b9d429c678",
   "metadata": {},
   "outputs": [
    {
     "name": "stdout",
     "output_type": "stream",
     "text": [
      "the factorial is = 120\n"
     ]
    }
   ],
   "source": [
    "\n",
    "fact=1\n",
    "i=1\n",
    "n=5\n",
    "while i<=n:\n",
    "    fact*=i\n",
    "    i+=1 \n",
    "print(\"the factorial is =\",fact)\n",
    "    "
   ]
  },
  {
   "cell_type": "markdown",
   "id": "69222afa-100b-4d7a-b58c-33d176f8d6b6",
   "metadata": {},
   "source": [
    "Task 5: Take age and city from the user, and print “Eligible” if age ≥ 18 and city is \"Karachi\"."
   ]
  },
  {
   "cell_type": "code",
   "execution_count": 9,
   "id": "64769ddc-d1ec-4335-8be6-de82eb99d35e",
   "metadata": {},
   "outputs": [
    {
     "name": "stdin",
     "output_type": "stream",
     "text": [
      "Enter the user age:-- 20\n",
      "Enter the user city:-- kot adu\n"
     ]
    },
    {
     "name": "stdout",
     "output_type": "stream",
     "text": [
      "Not eligible\n"
     ]
    }
   ],
   "source": [
    "age=eval(input(\"Enter the user age:--\"))\n",
    "city=input(\"Enter the user city:--\")\n",
    "if age >= 18 and city == \"Karachi\":\n",
    "    print(\"Eligible\")\n",
    "else:\n",
    "    print(\"Not Eligible\")"
   ]
  },
  {
   "cell_type": "markdown",
   "id": "9d09521d-65ff-46af-b0b9-dd32894fc2f7",
   "metadata": {},
   "source": [
    " Task 6: Print all even numbers between 1 and 20 using a while loop."
   ]
  },
  {
   "cell_type": "code",
   "execution_count": 2,
   "id": "e1f5a8f0-daa8-4224-a725-49e0fd02680f",
   "metadata": {},
   "outputs": [
    {
     "name": "stdout",
     "output_type": "stream",
     "text": [
      "2\n",
      "4\n",
      "6\n",
      "8\n",
      "10\n",
      "12\n",
      "14\n",
      "16\n",
      "18\n",
      "20\n"
     ]
    }
   ],
   "source": [
    "n=2\n",
    "while n<=20:\n",
    "    print(n)\n",
    "    n+=2"
   ]
  },
  {
   "cell_type": "markdown",
   "id": "cc17ff1e-45a2-42d0-a77e-c68590842b2b",
   "metadata": {},
   "source": [
    " Task 6. Combine if + while to ask user until they enter a valid age (>=0)"
   ]
  },
  {
   "cell_type": "code",
   "execution_count": 37,
   "id": "d02c22cb-be45-4853-bb2a-e068bbcbbfd1",
   "metadata": {},
   "outputs": [
    {
     "name": "stdin",
     "output_type": "stream",
     "text": [
      "Enter the age :  -7\n"
     ]
    },
    {
     "name": "stdout",
     "output_type": "stream",
     "text": [
      "Invalid age . age cannot be negative.\n"
     ]
    },
    {
     "name": "stdin",
     "output_type": "stream",
     "text": [
      "Enter the valid age (>=0): 6\n"
     ]
    },
    {
     "name": "stdout",
     "output_type": "stream",
     "text": [
      "Than you! Your age is :  6\n"
     ]
    }
   ],
   "source": [
    "age = int(input(\"Enter the age : \"))\n",
    "\n",
    "while age<0:\n",
    "    print(\"Invalid age . age cannot be negative.\")\n",
    "    age = int(input(\"Enter the valid age (>=0):\" ))\n",
    "    print(\"Than you! Your age is : \",age)\n",
    "    "
   ]
  },
  {
   "cell_type": "markdown",
   "id": "1c5169d5-f80e-45e6-8d1d-8dadeb998b97",
   "metadata": {},
   "source": [
    "\n",
    "📅 Day 3 – Functions in Python\n",
    "\n",
    "Topics: Defining, Calling, Arguments\n"
   ]
  },
  {
   "cell_type": "markdown",
   "id": "358ab39a-7134-435a-bb63-eac4e1d22642",
   "metadata": {},
   "source": [
    "Task 1: Make a function square(num) that returns the square of a number."
   ]
  },
  {
   "cell_type": "code",
   "execution_count": 26,
   "id": "5f596d1f-5d66-4437-94fb-366068ce1426",
   "metadata": {},
   "outputs": [
    {
     "data": {
      "text/plain": [
       "16"
      ]
     },
     "execution_count": 26,
     "metadata": {},
     "output_type": "execute_result"
    }
   ],
   "source": [
    "def squareNumber(a):\n",
    "    square=a*a\n",
    "    return square\n",
    "squareNumber(4)"
   ]
  },
  {
   "cell_type": "markdown",
   "id": "b6e94624-2f31-4d5b-847d-e1870a533d86",
   "metadata": {},
   "source": [
    "Task 2: Make a function is_even(num) that checks if a number is even or not."
   ]
  },
  {
   "cell_type": "code",
   "execution_count": 34,
   "id": "4544f82f-5862-4886-ae74-5b1c43a99ff3",
   "metadata": {},
   "outputs": [
    {
     "name": "stdout",
     "output_type": "stream",
     "text": [
      "Not Even Number\n"
     ]
    }
   ],
   "source": [
    "def evenNumber(num):\n",
    "    if num%2==0:\n",
    "        print(\"Even Number\")\n",
    "    else:\n",
    "        print(\"Not Even Number\")\n",
    "evenNumber()"
   ]
  },
  {
   "cell_type": "markdown",
   "id": "6b3ec4ef-607d-44f4-9755-0883785a7f01",
   "metadata": {},
   "source": [
    "Task 3: Make a function calculate_area(radius) that returns the area of a circle."
   ]
  },
  {
   "cell_type": "code",
   "execution_count": 36,
   "id": "0bdaa20a-201e-4263-9c0b-a445a5faffbb",
   "metadata": {},
   "outputs": [
    {
     "name": "stdout",
     "output_type": "stream",
     "text": [
      "Area of circle :  31.400000000000002\n"
     ]
    }
   ],
   "source": [
    "def calculate_area(radius):\n",
    "    areaOfCircle= 2*3.14*radius # pi=3.14\n",
    "    print(\"Area of circle : \",areaOfCircle)\n",
    "calculate_area(5)"
   ]
  },
  {
   "cell_type": "markdown",
   "id": "c33dded4-975a-417a-b596-000f5e7334de",
   "metadata": {},
   "source": [
    "Task 4: Make a function full_name(first, last) that returns a full name."
   ]
  },
  {
   "cell_type": "code",
   "execution_count": 4,
   "id": "9a3dd95f-2bb8-46b1-a667-a66e3238863a",
   "metadata": {},
   "outputs": [
    {
     "name": "stdout",
     "output_type": "stream",
     "text": [
      "Full Name : MFarhan\n"
     ]
    }
   ],
   "source": [
    "def full_Name(first,last):\n",
    "    name= first+last\n",
    "    print(\"Full Name :\",name)\n",
    "full_Name(\"M\", \"Farhan\")"
   ]
  },
  {
   "cell_type": "markdown",
   "id": "e0bcd814-4ef0-436d-8dc5-6de9923bdf70",
   "metadata": {},
   "source": [
    "5.\tFunction max_of_three(a,b,c) to return largest number"
   ]
  },
  {
   "cell_type": "code",
   "execution_count": 6,
   "id": "d57a62a1-ad9d-4517-ab68-83f43851bbd9",
   "metadata": {},
   "outputs": [
    {
     "name": "stdout",
     "output_type": "stream",
     "text": [
      "b is maximum\n"
     ]
    }
   ],
   "source": [
    "def max_of_three(a,b,c):\n",
    "    if a>b and a>c:\n",
    "        print(\"a is maximum\")\n",
    "    elif b>a and b>c:\n",
    "        print(\"b is maximum\")\n",
    "    else:\n",
    "        print(\"c is maximum\")\n",
    "max_of_three(7,8,4)"
   ]
  },
  {
   "cell_type": "markdown",
   "id": "531545e7-23ac-4d08-b399-31176f2d2a2b",
   "metadata": {},
   "source": [
    "6.\tFunction to calculate factorial"
   ]
  },
  {
   "cell_type": "code",
   "execution_count": 49,
   "id": "086273ee-7592-434c-a317-8395b610c898",
   "metadata": {},
   "outputs": [
    {
     "name": "stdout",
     "output_type": "stream",
     "text": [
      "the factorial is = 120\n"
     ]
    }
   ],
   "source": [
    "def calculate_Factorial(n):\n",
    " result=1\n",
    " for i in range (1,n+1):\n",
    "  result*=i\n",
    " return result\n",
    "print(\"the factorial is =\",calculate_Factorial(5))\n",
    " "
   ]
  },
  {
   "cell_type": "markdown",
   "id": "5013f1d9-fe2f-4070-8e7c-abcbda6545f4",
   "metadata": {},
   "source": [
    "7.\tFunction to greet user with name and age"
   ]
  },
  {
   "cell_type": "code",
   "execution_count": 51,
   "id": "e04f5596-ddbc-4920-bb0c-77317d0c0ce6",
   "metadata": {},
   "outputs": [
    {
     "name": "stdout",
     "output_type": "stream",
     "text": [
      "welcome Farhan.you are 21 year old.\n"
     ]
    }
   ],
   "source": [
    "def greetUser(name,age):\n",
    "    print(f\"welcome {name}.you are {age} year old.\")\n",
    "greetUser(\"Farhan\",21)"
   ]
  },
  {
   "cell_type": "markdown",
   "id": "e4932c3b-6d50-4cb7-a1b5-2f16132cfea9",
   "metadata": {},
   "source": [
    "1.\tCurrency Converter Function\n",
    "\n",
    "Function convert_to_usd(pkr_amount) jo PKR ko USD me convert kare (rate = 278 PKR per USD).\n"
   ]
  },
  {
   "cell_type": "code",
   "execution_count": 1,
   "id": "63e9c245-f92a-4530-946c-22a82d42f2a8",
   "metadata": {},
   "outputs": [
    {
     "name": "stdout",
     "output_type": "stream",
     "text": [
      "16.18705035971223 $ usd\n"
     ]
    }
   ],
   "source": [
    "def convert_to_usd(pkr_amount):\n",
    "    usd_value=pkr_amount/278\n",
    "    print(usd_value,\"$ usd\")\n",
    "convert_to_usd(4500)"
   ]
  },
  {
   "cell_type": "markdown",
   "id": "5415a685-401a-420e-8f7d-03933e8f9f70",
   "metadata": {},
   "source": [
    "2.\tRestaurant Bill Calculator\n",
    "\n",
    "Function calculate_bill(amount, tip_percent) jo total bill (bill + tip) return kare.\n"
   ]
  },
  {
   "cell_type": "code",
   "execution_count": 6,
   "id": "1d7de05c-2ae5-414c-986b-916fead82ae4",
   "metadata": {},
   "outputs": [
    {
     "name": "stdout",
     "output_type": "stream",
     "text": [
      "Total bill: 1100.0\n"
     ]
    }
   ],
   "source": [
    "def calculate_bill(amount, tip_percent):\n",
    "    tip=amount*(tip_percent/100)\n",
    "    total=amount+tip\n",
    "    print(\"Total bill:\",total)\n",
    "calculate_bill(1000, 10)"
   ]
  },
  {
   "cell_type": "markdown",
   "id": "8fa8c2aa-6def-45f7-9a35-4087c506f3f3",
   "metadata": {},
   "source": [
    "3.\tStudent Grade Calculator\n",
    "\n",
    "Function get_grade(marks) jo marks ke base par grade return kare (A, B, C, Fail).\n"
   ]
  },
  {
   "cell_type": "code",
   "execution_count": 7,
   "id": "c639b1aa-32f3-4a62-86da-d1ddd65bd4e3",
   "metadata": {},
   "outputs": [
    {
     "name": "stdout",
     "output_type": "stream",
     "text": [
      "Grade : B\n"
     ]
    }
   ],
   "source": [
    "def get_grade(marks):\n",
    "    if marks >80:\n",
    "        return \"A\"\n",
    "    elif marks >60:\n",
    "        return \"B\"\n",
    "    elif marks >40:\n",
    "        return \"C\"\n",
    "    else:\n",
    "        return \"Fail\"\n",
    "print(\"Grade :\",get_grade(67))"
   ]
  },
  {
   "cell_type": "markdown",
   "id": "4e86dbf5-2686-466e-9eb9-19e95f1acc06",
   "metadata": {},
   "source": [
    "4.\tDelivery Fee Calculator\n",
    "\n",
    "Function delivery_cost(distance_km) jo distance ke base par delivery charges calculate kare (10 PKR per km).\n"
   ]
  },
  {
   "cell_type": "code",
   "execution_count": 8,
   "id": "4bf61f59-367f-465a-aa09-afde16212d24",
   "metadata": {},
   "outputs": [
    {
     "name": "stdout",
     "output_type": "stream",
     "text": [
      " Total Delivery charges: 700\n"
     ]
    }
   ],
   "source": [
    "def delivery_cost(distance_km):\n",
    "    return distance_km*10\n",
    "print(\" Total Delivery charges:\",delivery_cost(70))"
   ]
  },
  {
   "cell_type": "markdown",
   "id": "e692e8dd-f7da-4382-9b6b-83baf5e7e169",
   "metadata": {},
   "source": [
    "5.\tDiscount Price Function\n",
    "\n",
    "Function apply_discount(price, discount_percent) jo discount lagane ke baad final price return kare.\n"
   ]
  },
  {
   "cell_type": "code",
   "execution_count": 10,
   "id": "8cc50613-d4ca-4b25-a4f2-f91c0261e544",
   "metadata": {},
   "outputs": [
    {
     "name": "stdout",
     "output_type": "stream",
     "text": [
      "Final price: 1080.0\n"
     ]
    }
   ],
   "source": [
    "def apply_discount(price, discount_percent):\n",
    "    discount=price*(discount_percent/100)\n",
    "    return price-discount\n",
    "print(\"Final price:\",apply_discount(1200, 10))"
   ]
  },
  {
   "cell_type": "markdown",
   "id": "1acd9f30-1fd7-4cc5-a47c-b7d09b2d750b",
   "metadata": {},
   "source": [
    "📅 Day 4 – Lists & Tuples\n",
    "\n",
    "Topics: Indexing, Slicing, Methods\n"
   ]
  },
  {
   "cell_type": "markdown",
   "id": "dcac3062-9cee-4376-af39-d7c9201392f5",
   "metadata": {},
   "source": [
    "1.\tGrocery List Manager\n",
    "\n",
    "List banaye jo grocery items store kare, user se ek item input lein, list me add karein.\n"
   ]
  },
  {
   "cell_type": "code",
   "execution_count": 106,
   "id": "2f166c55-bff2-45af-833f-2c431f5bb3a9",
   "metadata": {},
   "outputs": [
    {
     "name": "stdin",
     "output_type": "stream",
     "text": [
      "Enter the number: apple\n",
      "Enter the number: mango\n",
      "Enter the number: orango\n",
      "Enter the number: potato\n",
      "Enter the number: carrot\n"
     ]
    },
    {
     "name": "stdout",
     "output_type": "stream",
     "text": [
      "['apple', 'mango', 'orango', 'potato', 'carrot']\n"
     ]
    }
   ],
   "source": [
    "list=[]\n",
    "for i in range(1,6):\n",
    "    n=input(\"Enter the number:\")\n",
    "    list.append(n)\n",
    "print(list)"
   ]
  },
  {
   "cell_type": "markdown",
   "id": "e4f14cc2-9d22-4bcb-beeb-e9714d37d993",
   "metadata": {},
   "source": [
    "2.\tStudent Marks Analyzer\n",
    "\n",
    "Marks ki list me highest aur lowest marks find karein.\n"
   ]
  },
  {
   "cell_type": "code",
   "execution_count": 22,
   "id": "ad2e1073-d9df-4acc-af34-28704cbf82ba",
   "metadata": {},
   "outputs": [
    {
     "name": "stdout",
     "output_type": "stream",
     "text": [
      "Minimum marks: 49\n",
      "Maximum marks: 99\n"
     ]
    }
   ],
   "source": [
    "marks=[56,78,90,88,67,49,99]\n",
    "minValue=marks[0]\n",
    "for a in marks:\n",
    "    if a<minValue:\n",
    "     minValue=a\n",
    "print(\"Minimum marks:\",minValue)\n",
    "\n",
    "maxValue=marks[0]\n",
    "for a in marks:\n",
    "    if a>maxValue:\n",
    "     maxValue=a\n",
    "print(\"Maximum marks:\",maxValue)"
   ]
  },
  {
   "cell_type": "markdown",
   "id": "e23b1070-05d3-44e9-a73a-74f6db42bd0b",
   "metadata": {},
   "source": [
    "3.\tOnline Store Inventory\n",
    "\n",
    "Product names list me store karein, remove/add/update karne ka option de.\n"
   ]
  },
  {
   "cell_type": "code",
   "execution_count": 2,
   "id": "88d47ac4-8572-4d20-a1e4-ac42a82cb78b",
   "metadata": {},
   "outputs": [],
   "source": [
    "def show_menu():\n",
    "    print(\"\\n--- Online Store Inventory ---\")\n",
    "    print(\"1. Show all products\")\n",
    "    print(\"2. Add a product\")\n",
    "    print(\"3. Remove a product\")\n",
    "    print(\"4. Update a product\")\n",
    "    print(\"5. Exit\")\n",
    "\n"
   ]
  },
  {
   "cell_type": "markdown",
   "id": "db0af61c-c713-441d-828e-d57842ebf80e",
   "metadata": {},
   "source": [
    "4.\tTravel Plan\n",
    "\n",
    "Tuple banaye cities ka, aur indexing/slicing se apni trip ka pehla aur aakhri city print karein.\n"
   ]
  },
  {
   "cell_type": "code",
   "execution_count": 47,
   "id": "01186649-bd3c-47ce-b28e-c183f82cdb30",
   "metadata": {},
   "outputs": [
    {
     "name": "stdout",
     "output_type": "stream",
     "text": [
      "lahore\n",
      "Islamabad\n",
      "('lahore',)\n",
      "('Islamabad',)\n"
     ]
    }
   ],
   "source": [
    "city=(\"lahore\",\"karachi\",\"multan\",\"DGK\",\"Islamabad\")\n",
    "# indexing\n",
    "print(city[0]) # first city\n",
    "print(city[-1]) # last city\n",
    "\n",
    "# slicing\n",
    "print(city[0:1])\n",
    "print(city[-1:12])\n"
   ]
  },
  {
   "cell_type": "markdown",
   "id": "dfc6c076-e51c-464c-afa6-eb4973cdf432",
   "metadata": {},
   "source": [
    "5.\tRestaurant Menu Update\n",
    "\n",
    "Tuple menu items ko list me convert karein, new item add karein, phir wapas tuple me convert karein.\n"
   ]
  },
  {
   "cell_type": "code",
   "execution_count": 53,
   "id": "08b1a650-ee6f-4b02-a088-534f260d8b51",
   "metadata": {},
   "outputs": [
    {
     "data": {
      "text/plain": [
       "('chicken', 'shurwama', 'baryani', 'eggs', 'naan', 'takka boti')"
      ]
     },
     "execution_count": 53,
     "metadata": {},
     "output_type": "execute_result"
    }
   ],
   "source": [
    "menue=(\"chicken\",\"shurwama\",\"baryani\",\"eggs\",\"naan\")\n",
    "menue_list=list(menue) # convert the list\n",
    "menue_list.append(\"takka boti\") # add the items\n",
    "menue=tuple(menue_list) # convert the tuple\n",
    "menue"
   ]
  },
  {
   "cell_type": "markdown",
   "id": "3dca0b0c-cdab-4f29-82d9-54715e17ffb4",
   "metadata": {},
   "source": [
    "Homework / Practice\n",
    "\n",
    "1.\tCreate a list of 5 cities and print them\n",
    "\n",
    "2.\tUse indexing and slicing to print first 3 cities\n",
    "\n",
    "3.\tAdd a city to the list, remove one city\n",
    "\n",
    "4.\tConvert a list to tuple\n",
    "\n",
    "5.\tIterate over the list and print in uppercase\n"
   ]
  },
  {
   "cell_type": "code",
   "execution_count": 77,
   "id": "e2b1d105-3b09-4e47-afda-12191629bd4f",
   "metadata": {},
   "outputs": [
    {
     "data": {
      "text/plain": [
       "['lahore', 'multan', 'islamabad', 'karach', 'DGK']"
      ]
     },
     "execution_count": 77,
     "metadata": {},
     "output_type": "execute_result"
    }
   ],
   "source": [
    "# 1.Create a list of 5 cities and print them\n",
    "city=[\"lahore\",\"multan\",\"islamabad\",\"karach\",\"DGK\"]\n",
    "city"
   ]
  },
  {
   "cell_type": "code",
   "execution_count": 88,
   "id": "379a13d7-35c4-4573-a562-4b3d17d22a3f",
   "metadata": {},
   "outputs": [
    {
     "name": "stdout",
     "output_type": "stream",
     "text": [
      "['lahore', 'multan', 'karach']\n",
      "multan karach DGK\n"
     ]
    }
   ],
   "source": [
    "# 2.Use indexing and slicing to print first 3 cities\n",
    "print(city[0:3]) # slicing\n",
    "\n",
    "print(city[1],city[2],city[3]) # indicing\n"
   ]
  },
  {
   "cell_type": "code",
   "execution_count": 101,
   "id": "6d651c45-3295-48b9-b782-336879610f2b",
   "metadata": {},
   "outputs": [
    {
     "name": "stdout",
     "output_type": "stream",
     "text": [
      "['lahore', 'multan', 'islamabad', 'karach', 'DGK', 'fasilabad']\n"
     ]
    },
    {
     "data": {
      "text/plain": [
       "['lahore', 'multan', 'karach', 'DGK', 'fasilabad']"
      ]
     },
     "execution_count": 101,
     "metadata": {},
     "output_type": "execute_result"
    }
   ],
   "source": [
    "# 3.Add a city to the list, remove one city\n",
    "city=[\"lahore\",\"multan\",\"islamabad\",\"karach\",\"DGK\"]\n",
    "city.append(\"fasilabad\")\n",
    "print(city)\n",
    "city.remove(\"islamabad\")\n",
    "city"
   ]
  },
  {
   "cell_type": "code",
   "execution_count": 102,
   "id": "1dea3da5-4f4e-4311-bd67-68d6002b7ed2",
   "metadata": {},
   "outputs": [
    {
     "data": {
      "text/plain": [
       "('lahore', 'multan', 'karach', 'DGK', 'fasilabad')"
      ]
     },
     "execution_count": 102,
     "metadata": {},
     "output_type": "execute_result"
    }
   ],
   "source": [
    "# 4.Convert a list to tuple\n",
    "city_tuple=tuple(city) # convert the tuple\n",
    "city_tuple"
   ]
  },
  {
   "cell_type": "code",
   "execution_count": 103,
   "id": "3dd69065-6615-4594-8edb-2a905c485afe",
   "metadata": {},
   "outputs": [
    {
     "name": "stdout",
     "output_type": "stream",
     "text": [
      "LAHORE\n",
      "MULTAN\n",
      "KARACH\n",
      "DGK\n",
      "FASILABAD\n"
     ]
    }
   ],
   "source": [
    "# 5.Iterate over the list and print in uppercase\n",
    "for city in city:# iterate the lisy\n",
    "    print(city.upper())"
   ]
  },
  {
   "cell_type": "markdown",
   "id": "d4764042-7334-4471-b74b-f4e9ef1c2269",
   "metadata": {},
   "source": [
    "📅 Day 5 – Dictionaries & Sets\n",
    "\n",
    "Topics: CRUD operations, loops\n"
   ]
  },
  {
   "cell_type": "markdown",
   "id": "7d5eb6b7-3b89-417f-b33a-0cfaf645e18c",
   "metadata": {},
   "source": [
    "1.\tPhonebook App\n",
    "\n",
    "Dictionary banaye jo contacts store kare (name → number), user se contact search karne ka option de.\n"
   ]
  },
  {
   "cell_type": "code",
   "execution_count": 1,
   "id": "65f0d263-adf6-4805-83bb-a8601f991acb",
   "metadata": {},
   "outputs": [
    {
     "name": "stdin",
     "output_type": "stream",
     "text": [
      "Enter name to search:  Ali\n"
     ]
    },
    {
     "name": "stdout",
     "output_type": "stream",
     "text": [
      "Ali's number is 03001234567\n"
     ]
    }
   ],
   "source": [
    "phonebook = {\n",
    "    \"Ali\": \"03001234567\",\n",
    "    \"Sara\": \"03121234567\",\n",
    "    \"Usman\": \"03331234567\"\n",
    "}\n",
    "\n",
    "# Search contact\n",
    "name = input(\"Enter name to search: \")\n",
    "\n",
    "if name in phonebook:\n",
    "    print(f\"{name}'s number is {phonebook[name]}\")\n",
    "else:\n",
    "    print(\"Contact not found.\")\n"
   ]
  },
  {
   "cell_type": "markdown",
   "id": "81b88a15-09a9-49e2-89fe-13578ac38e3c",
   "metadata": {},
   "source": [
    "2.\tStudent Records System\n",
    "\n",
    "Dictionary me multiple students ke name, age, aur marks store karein, phir sab ko loop karke print karein.\n"
   ]
  },
  {
   "cell_type": "code",
   "execution_count": 12,
   "id": "9503ac6b-c918-4264-acd3-d479ec02224a",
   "metadata": {},
   "outputs": [
    {
     "name": "stdout",
     "output_type": "stream",
     "text": [
      "student1 : Farhan\n",
      "student2 : ahsan\n",
      "student : Ali\n",
      "age1 : 21\n",
      "age : 23\n",
      "age3 : 21\n",
      "marks1 : 82\n",
      "marks2 : 67\n",
      "marks3 : 77\n"
     ]
    }
   ],
   "source": [
    "student={\n",
    "    'student1':\"Farhan\",\n",
    "    'student2':\"ahsan\",\n",
    "    'student':\"Ali\",\n",
    "    'age1':21,\n",
    "    'age':23,\n",
    "    'age3':21,\n",
    "    'marks1':82,\n",
    "    'marks2':67,\n",
    "    'marks3':77,\n",
    "}\n",
    "for key,value in student.items():\n",
    "    print(key,\":\",value)"
   ]
  },
  {
   "cell_type": "markdown",
   "id": "efdd3f4d-2c57-46ad-91a1-23f28a931a46",
   "metadata": {},
   "source": [
    "3.\tUnique Visitors Tracker\n",
    "\n",
    "Set ka use karke website visitors ke unique IP addresses store karein.\n"
   ]
  },
  {
   "cell_type": "code",
   "execution_count": 2,
   "id": "556209b5-a706-4d7f-ba83-26c2d28c6be1",
   "metadata": {},
   "outputs": [
    {
     "name": "stdout",
     "output_type": "stream",
     "text": [
      "Unique Visitors: {'192.168.1.1', '192.168.1.2'}\n"
     ]
    }
   ],
   "source": [
    "visitors = set()\n",
    "\n",
    "# Add some visitors\n",
    "visitors.add(\"192.168.1.1\")\n",
    "visitors.add(\"192.168.1.2\")\n",
    "visitors.add(\"192.168.1.1\")  # Duplicate\n",
    "\n",
    "print(\"Unique Visitors:\", visitors)\n"
   ]
  },
  {
   "cell_type": "markdown",
   "id": "c06303e9-b9c6-4681-9396-cfc568b0082d",
   "metadata": {},
   "source": [
    "4. Shopping Cart (Dictionary + Calculation)"
   ]
  },
  {
   "cell_type": "code",
   "execution_count": 4,
   "id": "fd82bf61-6bf7-4f0e-b266-8a453f9812df",
   "metadata": {},
   "outputs": [
    {
     "name": "stdout",
     "output_type": "stream",
     "text": [
      "Your Cart: {'Shoes': 3000, 'Shirt': 1500, 'Watch': 2000}\n",
      "Total Bill: 6500\n"
     ]
    }
   ],
   "source": [
    "# Shopping Cart\n",
    "\n",
    "cart = {\n",
    "    \"Shoes\": 3000,\n",
    "    \"Shirt\": 1500,\n",
    "    \"Watch\": 2000\n",
    "}\n",
    "\n",
    "total = sum(cart.values())\n",
    "\n",
    "print(\"Your Cart:\", cart)\n",
    "print(\"Total Bill:\", total)\n"
   ]
  },
  {
   "cell_type": "markdown",
   "id": "2306d037-27c3-4e25-91ff-b0d9067ba139",
   "metadata": {},
   "source": [
    "5.\tFriend List Manager\n",
    "\n",
    "Do sets me friends list store karein, common friends aur different friends print karein.\n"
   ]
  },
  {
   "cell_type": "code",
   "execution_count": 5,
   "id": "c4c64106-b20f-4903-9784-53f88626f5b5",
   "metadata": {},
   "outputs": [
    {
     "name": "stdout",
     "output_type": "stream",
     "text": [
      "Common Friends: {'Usman', 'Sara'}\n",
      "Different Friends: {'Ali', 'Ahmed'}\n"
     ]
    }
   ],
   "source": [
    "my_friends = {\"Ali\", \"Sara\", \"Usman\"}\n",
    "other_friends = {\"Sara\", \"Ahmed\", \"Usman\"}\n",
    "\n",
    "# Common friends\n",
    "common = my_friends.intersection(other_friends)\n",
    "\n",
    "# Different friends\n",
    "different = my_friends.symmetric_difference(other_friends)\n",
    "\n",
    "print(\"Common Friends:\", common)\n",
    "print(\"Different Friends:\", different)\n"
   ]
  },
  {
   "cell_type": "markdown",
   "id": "27c32772-04a9-4b67-a9af-fae15bf024f7",
   "metadata": {},
   "source": [
    "✅ Homework / Practice\n",
    "\n",
    "1.\tCreate a dictionary of 3 countries and capitals\n",
    "2.\tUpdate one capital, add a new country\n",
    "3.\tCreate a set of 5 numbers and try adding duplicate\n",
    "4.\tPerform union & intersection of two sets\n",
    "5.\tIterate dictionary and print keys and values\n"
   ]
  },
  {
   "cell_type": "code",
   "execution_count": 46,
   "id": "d3d7cfff-7a5c-4036-b1a7-c581eebec972",
   "metadata": {},
   "outputs": [
    {
     "name": "stdout",
     "output_type": "stream",
     "text": [
      "pakistan : islamabad\n",
      "america : new york\n",
      "france : paris\n",
      "new york : White house\n",
      "india : dheli\n"
     ]
    }
   ],
   "source": [
    "country={\n",
    "    'pakistan':\"islamabad\",\n",
    "    'america':\"new york\",\n",
    "    'france':\"paris\"\n",
    "}\n",
    "country[\"new york\"]=\"White house\" # update\n",
    "country[\"india\"]=\"dheli\" # add new country\n",
    "for key,value in country.items():\n",
    "    print(key,\":\",value)"
   ]
  },
  {
   "cell_type": "markdown",
   "id": "19ed31d4-fe87-4be2-93c0-05d9e3bf4eb2",
   "metadata": {},
   "source": [
    "3.\tCreate a set of 5 numbers and try adding duplicate\n",
    "4.\tPerform union & intersection of two sets"
   ]
  },
  {
   "cell_type": "code",
   "execution_count": 50,
   "id": "7583c617-edfa-4d9d-8abf-57ac50f57c97",
   "metadata": {},
   "outputs": [
    {
     "name": "stdout",
     "output_type": "stream",
     "text": [
      "set of 5 number and duplicate {2, 3, 4, 5}\n",
      "Union of set: {97, 2, 3, 4, 5, 6, 8, 9}\n",
      "intersection of set: {3, 5}\n"
     ]
    }
   ],
   "source": [
    "set={2,3,4,5,3}# set of 5 number and duplicate\n",
    "print(\"set of 5 number and duplicate\",set)\n",
    "set1={2,3,4,5,9} \n",
    "set2={3,5,6,8,97,6}\n",
    "print(\"Union of set:\",set1.union(set2))# union of set\n",
    "print(\"intersection of set:\",set1.intersection(set2))"
   ]
  },
  {
   "cell_type": "code",
   "execution_count": null,
   "id": "7edef535-b60a-4a31-9a9a-9166c829d2e4",
   "metadata": {},
   "outputs": [],
   "source": []
  }
 ],
 "metadata": {
  "kernelspec": {
   "display_name": "Python [conda env:anaconda3] *",
   "language": "python",
   "name": "conda-env-anaconda3-py"
  },
  "language_info": {
   "codemirror_mode": {
    "name": "ipython",
    "version": 3
   },
   "file_extension": ".py",
   "mimetype": "text/x-python",
   "name": "python",
   "nbconvert_exporter": "python",
   "pygments_lexer": "ipython3",
   "version": "3.13.5"
  }
 },
 "nbformat": 4,
 "nbformat_minor": 5
}
