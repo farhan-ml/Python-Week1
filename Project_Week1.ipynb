{
 "cells": [
  {
   "cell_type": "markdown",
   "id": "48937797-60c8-44a4-b4ae-7418f364166a",
   "metadata": {},
   "source": [
    "Mini Project 1 – Calculator"
   ]
  },
  {
   "cell_type": "code",
   "execution_count": null,
   "id": "5e76b893-742f-454e-b176-af629b092e1d",
   "metadata": {},
   "outputs": [],
   "source": [
    "def add(a, b):\n",
    "    return a + b\n",
    "\n",
    "def subtract(a, b):\n",
    "    return a - b\n",
    "\n",
    "def multiply(a, b):\n",
    "    return a * b\n",
    "\n",
    "def divide(a, b):\n",
    "    if b != 0:\n",
    "        return a / b\n",
    "    else:\n",
    "        return \"Error! Division by zero.\"\n",
    "\n",
    "print(\"Simple Calculator\")\n",
    "print(\"Operations: +  -  *  /\")\n",
    "\n",
    "while True:\n",
    "    num1 = float(input(\"Enter first number: \"))\n",
    "    num2 = float(input(\"Enter second number: \"))\n",
    "    op = input(\"Enter operation (+ - * /): \")\n",
    "\n",
    "    if op == \"+\":\n",
    "        print(\"Result:\", add(num1, num2))\n",
    "    elif op == \"-\":\n",
    "        print(\"Result:\", subtract(num1, num2))\n",
    "    elif op == \"*\":\n",
    "        print(\"Result:\", multiply(num1, num2))\n",
    "    elif op == \"/\":\n",
    "        print(\"Result:\", divide(num1, num2))\n",
    "    else:\n",
    "        print(\"Invalid operation!\")\n",
    "\n",
    "    again = input(\"Do you want to calculate again? (yes/no): \").lower()\n",
    "    if again != \"yes\":\n",
    "        break"
   ]
  },
  {
   "cell_type": "markdown",
   "id": "a64e1850-388a-4a1d-8ff6-1cdf9f438f3c",
   "metadata": {},
   "source": [
    "Mini Project 2 – Guess-the-Number Game"
   ]
  },
  {
   "cell_type": "code",
   "execution_count": null,
   "id": "29debc59-b5df-4bea-873e-40a69daa3800",
   "metadata": {},
   "outputs": [],
   "source": [
    "import random\n",
    "num=random.randint(1,10)\n",
    "tries=0\n",
    "while True:\n",
    "    guess=int(input(\"Guess the number from 1 to 10:-\"))\n",
    "    if num==guess:\n",
    "        tries+=1\n",
    "        print(f\"You are Right you guess the number successfully in {tries} tries\")\n",
    "        break\n",
    "    elif num<guess:\n",
    "        print(\"go a little lower\")\n",
    "        tries+=1\n",
    "    elif num>guess:\n",
    "        print(\"go a little higher\")\n",
    "        tries+=1\n",
    "    else:\n",
    "        tries+=1\n",
    "        print(\"Sorry, you are wrong\")"
   ]
  }
 ],
 "metadata": {
  "kernelspec": {
   "display_name": "Python [conda env:anaconda3] *",
   "language": "python",
   "name": "conda-env-anaconda3-py"
  },
  "language_info": {
   "codemirror_mode": {
    "name": "ipython",
    "version": 3
   },
   "file_extension": ".py",
   "mimetype": "text/x-python",
   "name": "python",
   "nbconvert_exporter": "python",
   "pygments_lexer": "ipython3",
   "version": "3.13.5"
  }
 },
 "nbformat": 4,
 "nbformat_minor": 5
}
